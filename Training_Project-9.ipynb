{
 "cells": [
  {
   "cell_type": "code",
   "execution_count": 1,
   "id": "8ccde5a2",
   "metadata": {},
   "outputs": [],
   "source": [
    "import pickle"
   ]
  },
  {
   "cell_type": "code",
   "execution_count": 2,
   "id": "9579fca1",
   "metadata": {},
   "outputs": [],
   "source": [
    "X = pickle.load(open('X.pkl','rb'))#loading preprocessed images\n",
    "y = pickle.load(open('Y.pkl','rb'))#loading labels"
   ]
  },
  {
   "cell_type": "code",
   "execution_count": 3,
   "id": "e487b7f2",
   "metadata": {},
   "outputs": [
    {
     "data": {
      "text/plain": [
       "array([0, 0, 0, ..., 1, 1, 1])"
      ]
     },
     "execution_count": 3,
     "metadata": {},
     "output_type": "execute_result"
    }
   ],
   "source": [
    "y"
   ]
  },
  {
   "cell_type": "markdown",
   "id": "f2e14dfd",
   "metadata": {},
   "source": [
    "## Normalizing the Images"
   ]
  },
  {
   "cell_type": "code",
   "execution_count": 4,
   "id": "55ae03c4",
   "metadata": {},
   "outputs": [],
   "source": [
    "X = X/255"
   ]
  },
  {
   "cell_type": "markdown",
   "id": "4861ba0e",
   "metadata": {},
   "source": [
    "## Reshaping the Data for CNN"
   ]
  },
  {
   "cell_type": "code",
   "execution_count": 5,
   "id": "3c4f4964",
   "metadata": {},
   "outputs": [],
   "source": [
    "X = X.reshape(-1, 100, 100, 1)"
   ]
  },
  {
   "cell_type": "code",
   "execution_count": 6,
   "id": "afbfa4a3",
   "metadata": {},
   "outputs": [],
   "source": [
    "import tensorflow as tf"
   ]
  },
  {
   "cell_type": "code",
   "execution_count": 7,
   "id": "42505028",
   "metadata": {},
   "outputs": [],
   "source": [
    "from tensorflow import keras\n",
    "\n",
    "from tensorflow.keras.models import Sequential\n",
    "from tensorflow.keras.layers import Dense, Conv2D, Flatten, Dropout,Activation, MaxPooling2D\n"
   ]
  },
  {
   "cell_type": "code",
   "execution_count": 8,
   "id": "18db7349",
   "metadata": {},
   "outputs": [],
   "source": [
    "model = Sequential()\n",
    "\n",
    "model.add(Conv2D(64,(3,3),activation='relu'))\n",
    "model.add(MaxPooling2D(2,2))                      ## Convolution Layers Design\n",
    "\n",
    "model.add(Conv2D(32,(3,3),activation='relu'))\n",
    "model.add(MaxPooling2D(2,2))\n",
    "\n",
    "model.add(Flatten()) #Flatten the image to 1 dimensional Array \n",
    "\n",
    "\n",
    "model.add(Dense(128,input_shape = X.shape[1:], activation='relu')) #Input Layer\n",
    "model.add(Dropout(0.5))\n",
    "\n",
    "model.add(Dense(128, activation='relu'))#Hidden Layer -1\n",
    "model.add(Dropout(0.5))\n",
    "\n",
    "model.add(Dense(64, activation='relu'))#Hidden Layer -2\n",
    "model.add(Dropout(0.5))\n",
    "\n",
    "model.add(Dense(2,activation='softmax'))\n",
    "\n"
   ]
  },
  {
   "cell_type": "code",
   "execution_count": 9,
   "id": "500216fe",
   "metadata": {},
   "outputs": [],
   "source": [
    "from sklearn.model_selection import train_test_split\n",
    "\n",
    "X_train,X_test,y_train,y_test = train_test_split(X,y,test_size=0.1)"
   ]
  },
  {
   "cell_type": "code",
   "execution_count": 10,
   "id": "4ef12e4b",
   "metadata": {},
   "outputs": [],
   "source": [
    "\n",
    "model.compile(optimizer = 'adam', loss='sparse_categorical_crossentropy', metrics = ['accuracy'])"
   ]
  },
  {
   "cell_type": "code",
   "execution_count": 12,
   "id": "aced7c5a",
   "metadata": {},
   "outputs": [
    {
     "name": "stdout",
     "output_type": "stream",
     "text": [
      "Epoch 1/15\n",
      "49/49 [==============================] - 15s 309ms/step - loss: 0.2498 - accuracy: 0.8635\n",
      "Epoch 2/15\n",
      "49/49 [==============================] - 14s 291ms/step - loss: 0.1354 - accuracy: 0.9665\n",
      "Epoch 3/15\n",
      "49/49 [==============================] - 16s 318ms/step - loss: 0.1078 - accuracy: 0.9646\n",
      "Epoch 4/15\n",
      "49/49 [==============================] - 14s 285ms/step - loss: 0.0746 - accuracy: 0.9807\n",
      "Epoch 5/15\n",
      "49/49 [==============================] - 14s 289ms/step - loss: 0.0445 - accuracy: 0.9865\n",
      "Epoch 6/15\n",
      "49/49 [==============================] - 14s 286ms/step - loss: 0.0394 - accuracy: 0.9852\n",
      "Epoch 7/15\n",
      "49/49 [==============================] - 14s 287ms/step - loss: 0.0510 - accuracy: 0.9871\n",
      "Epoch 8/15\n",
      "49/49 [==============================] - 14s 284ms/step - loss: 0.0265 - accuracy: 0.9897\n",
      "Epoch 9/15\n",
      "49/49 [==============================] - 14s 282ms/step - loss: 0.0402 - accuracy: 0.9852\n",
      "Epoch 10/15\n",
      "49/49 [==============================] - 14s 284ms/step - loss: 0.0826 - accuracy: 0.9762\n",
      "Epoch 11/15\n",
      "49/49 [==============================] - 14s 282ms/step - loss: 0.0707 - accuracy: 0.9775\n",
      "Epoch 12/15\n",
      "49/49 [==============================] - 14s 283ms/step - loss: 0.0390 - accuracy: 0.9878\n",
      "Epoch 13/15\n",
      "49/49 [==============================] - 14s 282ms/step - loss: 0.0365 - accuracy: 0.9865\n",
      "Epoch 14/15\n",
      "49/49 [==============================] - 14s 290ms/step - loss: 0.0251 - accuracy: 0.9936\n",
      "Epoch 15/15\n",
      "49/49 [==============================] - 14s 285ms/step - loss: 0.0176 - accuracy: 0.9936\n"
     ]
    },
    {
     "data": {
      "text/plain": [
       "<keras.callbacks.History at 0x1a5286b1ac0>"
      ]
     },
     "execution_count": 12,
     "metadata": {},
     "output_type": "execute_result"
    }
   ],
   "source": [
    "model.fit(X_train,y_train,epochs=15)"
   ]
  },
  {
   "cell_type": "code",
   "execution_count": 13,
   "id": "f3b67d1b",
   "metadata": {},
   "outputs": [
    {
     "name": "stdout",
     "output_type": "stream",
     "text": [
      "6/6 [==============================] - 1s 60ms/step - loss: 0.0021 - accuracy: 1.0000\n",
      "[0.0020512277260422707, 1.0]\n"
     ]
    }
   ],
   "source": [
    "print(model.evaluate(X_test,y_test))"
   ]
  },
  {
   "cell_type": "code",
   "execution_count": 14,
   "id": "35e4219f",
   "metadata": {},
   "outputs": [
    {
     "name": "stdout",
     "output_type": "stream",
     "text": [
      "INFO:tensorflow:Assets written to: Covid model\\assets\n"
     ]
    }
   ],
   "source": [
    "model.save(r'Covid model') #saved the Model"
   ]
  },
  {
   "cell_type": "code",
   "execution_count": null,
   "id": "61e9efbf",
   "metadata": {},
   "outputs": [],
   "source": []
  }
 ],
 "metadata": {
  "kernelspec": {
   "display_name": "Python 3 (ipykernel)",
   "language": "python",
   "name": "python3"
  },
  "language_info": {
   "codemirror_mode": {
    "name": "ipython",
    "version": 3
   },
   "file_extension": ".py",
   "mimetype": "text/x-python",
   "name": "python",
   "nbconvert_exporter": "python",
   "pygments_lexer": "ipython3",
   "version": "3.8.11"
  }
 },
 "nbformat": 4,
 "nbformat_minor": 5
}
